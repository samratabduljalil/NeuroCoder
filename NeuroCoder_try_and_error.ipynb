{
 "cells": [
  {
   "cell_type": "code",
   "execution_count": 2,
   "metadata": {
    "vscode": {
     "languageId": "plaintext"
    }
   },
   "outputs": [
    {
     "name": "stderr",
     "output_type": "stream",
     "text": [
      "C:\\Users\\samra\\AppData\\Local\\Temp\\ipykernel_9700\\210870417.py:9: LangChainDeprecationWarning: The class `Ollama` was deprecated in LangChain 0.3.1 and will be removed in 1.0.0. An updated version of the class exists in the :class:`~langchain-ollama package and should be used instead. To use it run `pip install -U :class:`~langchain-ollama` and import as `from :class:`~langchain_ollama import OllamaLLM``.\n",
      "  research_llm = Ollama(model=\"deepseek-r1\")  # Use DeepSeek R1 for research tasks\n"
     ]
    },
    {
     "ename": "ImportError",
     "evalue": "Could not import duckduckgo-search python package. Please install it with `pip install -U duckduckgo-search`.",
     "output_type": "error",
     "traceback": [
      "\u001b[1;31m---------------------------------------------------------------------------\u001b[0m",
      "\u001b[1;31mModuleNotFoundError\u001b[0m                       Traceback (most recent call last)",
      "File \u001b[1;32m~\\anaconda3\\envs\\NeuroCoder\\lib\\site-packages\\langchain_community\\utilities\\duckduckgo_search.py:49\u001b[0m, in \u001b[0;36mDuckDuckGoSearchAPIWrapper.validate_environment\u001b[1;34m(cls, values)\u001b[0m\n\u001b[0;32m     48\u001b[0m \u001b[38;5;28;01mtry\u001b[39;00m:\n\u001b[1;32m---> 49\u001b[0m     \u001b[38;5;28;01mfrom\u001b[39;00m \u001b[38;5;21;01mduckduckgo_search\u001b[39;00m \u001b[38;5;28;01mimport\u001b[39;00m DDGS  \u001b[38;5;66;03m# noqa: F401\u001b[39;00m\n\u001b[0;32m     50\u001b[0m \u001b[38;5;28;01mexcept\u001b[39;00m \u001b[38;5;167;01mImportError\u001b[39;00m:\n",
      "\u001b[1;31mModuleNotFoundError\u001b[0m: No module named 'duckduckgo_search'",
      "\nDuring handling of the above exception, another exception occurred:\n",
      "\u001b[1;31mImportError\u001b[0m                               Traceback (most recent call last)",
      "Cell \u001b[1;32mIn[2], line 22\u001b[0m\n\u001b[0;32m     19\u001b[0m         \u001b[38;5;28;01mreturn\u001b[39;00m \u001b[38;5;124mf\u001b[39m\u001b[38;5;124m\"\u001b[39m\u001b[38;5;124mContent saved to \u001b[39m\u001b[38;5;132;01m{\u001b[39;00mfilename\u001b[38;5;132;01m}\u001b[39;00m\u001b[38;5;124m\"\u001b[39m\n\u001b[0;32m     21\u001b[0m \u001b[38;5;66;03m# Initialize tools\u001b[39;00m\n\u001b[1;32m---> 22\u001b[0m search_tool \u001b[38;5;241m=\u001b[39m \u001b[43mDuckDuckGoSearchAPIWrapper\u001b[49m\u001b[43m(\u001b[49m\u001b[43m)\u001b[49m  \u001b[38;5;66;03m# Free search API\u001b[39;00m\n\u001b[0;32m     23\u001b[0m custom_tools \u001b[38;5;241m=\u001b[39m CustomTools()\n\u001b[0;32m     25\u001b[0m \u001b[38;5;66;03m# Define Agents\u001b[39;00m\n",
      "    \u001b[1;31m[... skipping hidden 1 frame]\u001b[0m\n",
      "File \u001b[1;32m~\\anaconda3\\envs\\NeuroCoder\\lib\\site-packages\\langchain_community\\utilities\\duckduckgo_search.py:51\u001b[0m, in \u001b[0;36mDuckDuckGoSearchAPIWrapper.validate_environment\u001b[1;34m(cls, values)\u001b[0m\n\u001b[0;32m     49\u001b[0m     \u001b[38;5;28;01mfrom\u001b[39;00m \u001b[38;5;21;01mduckduckgo_search\u001b[39;00m \u001b[38;5;28;01mimport\u001b[39;00m DDGS  \u001b[38;5;66;03m# noqa: F401\u001b[39;00m\n\u001b[0;32m     50\u001b[0m \u001b[38;5;28;01mexcept\u001b[39;00m \u001b[38;5;167;01mImportError\u001b[39;00m:\n\u001b[1;32m---> 51\u001b[0m     \u001b[38;5;28;01mraise\u001b[39;00m \u001b[38;5;167;01mImportError\u001b[39;00m(\n\u001b[0;32m     52\u001b[0m         \u001b[38;5;124m\"\u001b[39m\u001b[38;5;124mCould not import duckduckgo-search python package. \u001b[39m\u001b[38;5;124m\"\u001b[39m\n\u001b[0;32m     53\u001b[0m         \u001b[38;5;124m\"\u001b[39m\u001b[38;5;124mPlease install it with `pip install -U duckduckgo-search`.\u001b[39m\u001b[38;5;124m\"\u001b[39m\n\u001b[0;32m     54\u001b[0m     )\n\u001b[0;32m     55\u001b[0m \u001b[38;5;28;01mreturn\u001b[39;00m values\n",
      "\u001b[1;31mImportError\u001b[0m: Could not import duckduckgo-search python package. Please install it with `pip install -U duckduckgo-search`."
     ]
    }
   ],
   "source": [
    "import os\n",
    "from crewai import Agent, Task, Crew, Process\n",
    "from langchain.tools import tool\n",
    "#from langchain_community.tools import DuckDuckGoSearchAPIWrapper\n",
    "from langchain_community.utilities import DuckDuckGoSearchAPIWrapper\n",
    "from langchain_community.llms import Ollama\n",
    "\n",
    "# Initialize local LLMs using Ollama\n",
    "research_llm = Ollama(model=\"deepseek-r1\")  # Use DeepSeek R1 for research tasks\n",
    "code_llm = Ollama(model=\"deepseek-coder\")  # Use DeepSeek Coder for coding tasks\n",
    "\n",
    "# Custom Tools (if needed)\n",
    "class CustomTools:\n",
    "    @tool(\"Save to File\")\n",
    "    def save_to_file(content: str, filename: str):\n",
    "        \"\"\"Saves content to a file.\"\"\"\n",
    "        with open(filename, \"w\") as file:\n",
    "            file.write(content)\n",
    "        return f\"Content saved to {filename}\"\n",
    "\n",
    "# Initialize tools\n",
    "search_tool = DuckDuckGoSearchAPIWrapper()  # Free search API\n",
    "custom_tools = CustomTools()\n",
    "\n",
    "# Define Agents\n",
    "research_agent = Agent(\n",
    "    role='Senior Research Analyst',\n",
    "    goal='Find and analyze the most impactful academic papers',\n",
    "    backstory=\"\"\"You're a renowned research analyst with a knack for finding \n",
    "    cutting-edge papers in any field. You have access to all major academic \n",
    "    databases and can quickly assess paper quality.\"\"\",\n",
    "    verbose=True,\n",
    "    allow_delegation=False,\n",
    "    tools=[search_tool.run],  # Use DuckDuckGo search tool\n",
    "    llm=research_llm  # Use DeepSeek R1 for research\n",
    ")\n",
    "\n",
    "code_agent = Agent(\n",
    "    role='Senior Software Engineer',\n",
    "    goal='Generate high-quality code implementations from research methodologies',\n",
    "    backstory=\"\"\"You're a principal engineer at a top AI lab who specializes \n",
    "    in translating research papers into working implementations.\"\"\",\n",
    "    verbose=True,\n",
    "    allow_delegation=False,\n",
    "    tools=[custom_tools.save_to_file],\n",
    "    llm=code_llm  # Use DeepSeek Coder for coding\n",
    ")\n",
    "\n",
    "# Define Tasks\n",
    "research_task = Task(\n",
    "    description=\"\"\"Find the best paper on {topic}. Extract its methodology section \n",
    "    and provide a detailed explanation of the approach.\"\"\",\n",
    "    expected_output=\"A detailed methodology section from the best paper on the topic.\",\n",
    "    agent=research_agent,\n",
    "    output_file='methodology.txt'\n",
    ")\n",
    "\n",
    "coding_task = Task(\n",
    "    description=\"\"\"Take the methodology from the research agent and generate Python code \n",
    "    that implements the described approach. Include test cases and documentation.\"\"\",\n",
    "    expected_output=\"Complete Python implementation with example usage.\",\n",
    "    agent=code_agent,\n",
    "    output_file='implementation.py'\n",
    ")\n",
    "\n",
    "# Create Crew\n",
    "implementation_crew = Crew(\n",
    "    agents=[research_agent, code_agent],\n",
    "    tasks=[research_task, coding_task],\n",
    "    verbose=2,\n",
    "    process=Process.sequential\n",
    ")\n",
    "\n",
    "# Execute the workflow\n",
    "if __name__ == \"__main__\":\n",
    "    topic = input(\"Enter research topic: \")\n",
    "    result = implementation_crew.kickoff(inputs={'topic': topic})\n",
    "    print(\"\\n\\n########################\")\n",
    "    print(\"## Workflow Complete ##\")\n",
    "    print(\"########################\")\n",
    "    print(result)"
   ]
  },
  {
   "cell_type": "code",
   "execution_count": null,
   "metadata": {},
   "outputs": [],
   "source": []
  }
 ],
 "metadata": {
  "kernelspec": {
   "display_name": "Python 3 (ipykernel)",
   "language": "python",
   "name": "python3"
  },
  "language_info": {
   "codemirror_mode": {
    "name": "ipython",
    "version": 3
   },
   "file_extension": ".py",
   "mimetype": "text/x-python",
   "name": "python",
   "nbconvert_exporter": "python",
   "pygments_lexer": "ipython3",
   "version": "3.10.16"
  }
 },
 "nbformat": 4,
 "nbformat_minor": 4
}
