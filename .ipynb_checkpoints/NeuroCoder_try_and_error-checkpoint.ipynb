{
 "cells": [
  {
   "cell_type": "code",
   "execution_count": 4,
   "metadata": {
    "vscode": {
     "languageId": "plaintext"
    }
   },
   "outputs": [
    {
     "ename": "ValidationError",
     "evalue": "1 validation error for Agent\ntools\n  Value error, Invalid tool type: <class 'langchain_community.utilities.duckduckgo_search.DuckDuckGoSearchAPIWrapper'>. Tool must be an instance of BaseTool or an object with 'name', 'func', and 'description' attributes. [type=value_error, input_value=[DuckDuckGoSearchAPIWrapp...='auto', source='text')], input_type=list]\n    For further information visit https://errors.pydantic.dev/2.10/v/value_error",
     "output_type": "error",
     "traceback": [
      "\u001b[1;31m---------------------------------------------------------------------------\u001b[0m",
      "\u001b[1;31mValidationError\u001b[0m                           Traceback (most recent call last)",
      "Cell \u001b[1;32mIn[4], line 26\u001b[0m\n\u001b[0;32m     23\u001b[0m custom_tools \u001b[38;5;241m=\u001b[39m CustomTools()\n\u001b[0;32m     25\u001b[0m \u001b[38;5;66;03m# Define Agents\u001b[39;00m\n\u001b[1;32m---> 26\u001b[0m research_agent \u001b[38;5;241m=\u001b[39m \u001b[43mAgent\u001b[49m\u001b[43m(\u001b[49m\n\u001b[0;32m     27\u001b[0m \u001b[43m    \u001b[49m\u001b[43mrole\u001b[49m\u001b[38;5;241;43m=\u001b[39;49m\u001b[38;5;124;43m'\u001b[39;49m\u001b[38;5;124;43mSenior Research Analyst\u001b[39;49m\u001b[38;5;124;43m'\u001b[39;49m\u001b[43m,\u001b[49m\n\u001b[0;32m     28\u001b[0m \u001b[43m    \u001b[49m\u001b[43mgoal\u001b[49m\u001b[38;5;241;43m=\u001b[39;49m\u001b[38;5;124;43m'\u001b[39;49m\u001b[38;5;124;43mFind and analyze the most impactful academic papers\u001b[39;49m\u001b[38;5;124;43m'\u001b[39;49m\u001b[43m,\u001b[49m\n\u001b[0;32m     29\u001b[0m \u001b[43m    \u001b[49m\u001b[43mbackstory\u001b[49m\u001b[38;5;241;43m=\u001b[39;49m\u001b[38;5;124;43m\"\"\"\u001b[39;49m\u001b[38;5;124;43mYou\u001b[39;49m\u001b[38;5;124;43m'\u001b[39;49m\u001b[38;5;124;43mre a renowned research analyst with a knack for finding \u001b[39;49m\n\u001b[0;32m     30\u001b[0m \u001b[38;5;124;43m    cutting-edge papers in any field. You have access to all major academic \u001b[39;49m\n\u001b[0;32m     31\u001b[0m \u001b[38;5;124;43m    databases and can quickly assess paper quality.\u001b[39;49m\u001b[38;5;124;43m\"\"\"\u001b[39;49m\u001b[43m,\u001b[49m\n\u001b[0;32m     32\u001b[0m \u001b[43m    \u001b[49m\u001b[43mverbose\u001b[49m\u001b[38;5;241;43m=\u001b[39;49m\u001b[38;5;28;43;01mTrue\u001b[39;49;00m\u001b[43m,\u001b[49m\n\u001b[0;32m     33\u001b[0m \u001b[43m    \u001b[49m\u001b[43mallow_delegation\u001b[49m\u001b[38;5;241;43m=\u001b[39;49m\u001b[38;5;28;43;01mFalse\u001b[39;49;00m\u001b[43m,\u001b[49m\n\u001b[0;32m     34\u001b[0m \u001b[43m    \u001b[49m\u001b[43mtools\u001b[49m\u001b[38;5;241;43m=\u001b[39;49m\u001b[43m[\u001b[49m\u001b[43mDuckDuckGoSearchAPIWrapper\u001b[49m\u001b[43m(\u001b[49m\u001b[43m)\u001b[49m\u001b[43m]\u001b[49m\u001b[43m,\u001b[49m\u001b[43m  \u001b[49m\u001b[38;5;66;43;03m# Use DuckDuckGo search tool\u001b[39;49;00m\n\u001b[0;32m     35\u001b[0m \u001b[43m    \u001b[49m\u001b[43mllm\u001b[49m\u001b[38;5;241;43m=\u001b[39;49m\u001b[43mresearch_llm\u001b[49m\u001b[43m  \u001b[49m\u001b[38;5;66;43;03m# Use DeepSeek R1 for research\u001b[39;49;00m\n\u001b[0;32m     36\u001b[0m \u001b[43m)\u001b[49m\n\u001b[0;32m     38\u001b[0m code_agent \u001b[38;5;241m=\u001b[39m Agent(\n\u001b[0;32m     39\u001b[0m     role\u001b[38;5;241m=\u001b[39m\u001b[38;5;124m'\u001b[39m\u001b[38;5;124mSenior Software Engineer\u001b[39m\u001b[38;5;124m'\u001b[39m,\n\u001b[0;32m     40\u001b[0m     goal\u001b[38;5;241m=\u001b[39m\u001b[38;5;124m'\u001b[39m\u001b[38;5;124mGenerate high-quality code implementations from research methodologies\u001b[39m\u001b[38;5;124m'\u001b[39m,\n\u001b[1;32m   (...)\u001b[0m\n\u001b[0;32m     46\u001b[0m     llm\u001b[38;5;241m=\u001b[39mcode_llm  \u001b[38;5;66;03m# Use DeepSeek Coder for coding\u001b[39;00m\n\u001b[0;32m     47\u001b[0m )\n\u001b[0;32m     49\u001b[0m \u001b[38;5;66;03m# Define Tasks\u001b[39;00m\n",
      "File \u001b[1;32m~\\anaconda3\\envs\\NeuroCoder\\lib\\site-packages\\pydantic\\main.py:214\u001b[0m, in \u001b[0;36mBaseModel.__init__\u001b[1;34m(self, **data)\u001b[0m\n\u001b[0;32m    212\u001b[0m \u001b[38;5;66;03m# `__tracebackhide__` tells pytest and some other tools to omit this function from tracebacks\u001b[39;00m\n\u001b[0;32m    213\u001b[0m __tracebackhide__ \u001b[38;5;241m=\u001b[39m \u001b[38;5;28;01mTrue\u001b[39;00m\n\u001b[1;32m--> 214\u001b[0m validated_self \u001b[38;5;241m=\u001b[39m \u001b[38;5;28;43mself\u001b[39;49m\u001b[38;5;241;43m.\u001b[39;49m\u001b[43m__pydantic_validator__\u001b[49m\u001b[38;5;241;43m.\u001b[39;49m\u001b[43mvalidate_python\u001b[49m\u001b[43m(\u001b[49m\u001b[43mdata\u001b[49m\u001b[43m,\u001b[49m\u001b[43m \u001b[49m\u001b[43mself_instance\u001b[49m\u001b[38;5;241;43m=\u001b[39;49m\u001b[38;5;28;43mself\u001b[39;49m\u001b[43m)\u001b[49m\n\u001b[0;32m    215\u001b[0m \u001b[38;5;28;01mif\u001b[39;00m \u001b[38;5;28mself\u001b[39m \u001b[38;5;129;01mis\u001b[39;00m \u001b[38;5;129;01mnot\u001b[39;00m validated_self:\n\u001b[0;32m    216\u001b[0m     warnings\u001b[38;5;241m.\u001b[39mwarn(\n\u001b[0;32m    217\u001b[0m         \u001b[38;5;124m'\u001b[39m\u001b[38;5;124mA custom validator is returning a value other than `self`.\u001b[39m\u001b[38;5;130;01m\\n\u001b[39;00m\u001b[38;5;124m'\u001b[39m\n\u001b[0;32m    218\u001b[0m         \u001b[38;5;124m\"\u001b[39m\u001b[38;5;124mReturning anything other than `self` from a top level model validator isn\u001b[39m\u001b[38;5;124m'\u001b[39m\u001b[38;5;124mt supported when validating via `__init__`.\u001b[39m\u001b[38;5;130;01m\\n\u001b[39;00m\u001b[38;5;124m\"\u001b[39m\n\u001b[0;32m    219\u001b[0m         \u001b[38;5;124m'\u001b[39m\u001b[38;5;124mSee the `model_validator` docs (https://docs.pydantic.dev/latest/concepts/validators/#model-validators) for more details.\u001b[39m\u001b[38;5;124m'\u001b[39m,\n\u001b[0;32m    220\u001b[0m         stacklevel\u001b[38;5;241m=\u001b[39m\u001b[38;5;241m2\u001b[39m,\n\u001b[0;32m    221\u001b[0m     )\n",
      "\u001b[1;31mValidationError\u001b[0m: 1 validation error for Agent\ntools\n  Value error, Invalid tool type: <class 'langchain_community.utilities.duckduckgo_search.DuckDuckGoSearchAPIWrapper'>. Tool must be an instance of BaseTool or an object with 'name', 'func', and 'description' attributes. [type=value_error, input_value=[DuckDuckGoSearchAPIWrapp...='auto', source='text')], input_type=list]\n    For further information visit https://errors.pydantic.dev/2.10/v/value_error"
     ]
    }
   ],
   "source": [
    "import os\n",
    "from crewai import Agent, Task, Crew, Process\n",
    "from langchain.tools import tool\n",
    "#from langchain_community.tools import DuckDuckGoSearchAPIWrapper\n",
    "from langchain_community.utilities import DuckDuckGoSearchAPIWrapper\n",
    "from langchain_community.llms import Ollama\n",
    "\n",
    "# Initialize local LLMs using Ollama\n",
    "research_llm = Ollama(model=\"deepseek-r1\")  # Use DeepSeek R1 for research tasks\n",
    "code_llm = Ollama(model=\"deepseek-coder\")  # Use DeepSeek Coder for coding tasks\n",
    "\n",
    "# Custom Tools (if needed)\n",
    "class CustomTools:\n",
    "    @tool(\"Save to File\")\n",
    "    def save_to_file(content: str, filename: str):\n",
    "        \"\"\"Saves content to a file.\"\"\"\n",
    "        with open(filename, \"w\") as file:\n",
    "            file.write(content)\n",
    "        return f\"Content saved to {filename}\"\n",
    "\n",
    "# Initialize tools\n",
    "search_tool = DuckDuckGoSearchAPIWrapper()  # Free search API\n",
    "custom_tools = CustomTools()\n",
    "\n",
    "# Define Agents\n",
    "research_agent = Agent(\n",
    "    role='Senior Research Analyst',\n",
    "    goal='Find and analyze the most impactful academic papers',\n",
    "    backstory=\"\"\"You're a renowned research analyst with a knack for finding \n",
    "    cutting-edge papers in any field. You have access to all major academic \n",
    "    databases and can quickly assess paper quality.\"\"\",\n",
    "    verbose=True,\n",
    "    allow_delegation=False,\n",
    "    tools=[DuckDuckGoSearchAPIWrapper()],  # Use DuckDuckGo search tool\n",
    "    llm=research_llm  # Use DeepSeek R1 for research\n",
    ")\n",
    "\n",
    "code_agent = Agent(\n",
    "    role='Senior Software Engineer',\n",
    "    goal='Generate high-quality code implementations from research methodologies',\n",
    "    backstory=\"\"\"You're a principal engineer at a top AI lab who specializes \n",
    "    in translating research papers into working implementations.\"\"\",\n",
    "    verbose=True,\n",
    "    allow_delegation=False,\n",
    "    tools=[custom_tools.save_to_file],\n",
    "    llm=code_llm  # Use DeepSeek Coder for coding\n",
    ")\n",
    "\n",
    "# Define Tasks\n",
    "research_task = Task(\n",
    "    description=\"\"\"Find the best paper on {topic}. Extract its methodology section \n",
    "    and provide a detailed explanation of the approach.\"\"\",\n",
    "    expected_output=\"A detailed methodology section from the best paper on the topic.\",\n",
    "    agent=research_agent,\n",
    "    output_file='methodology.txt'\n",
    ")\n",
    "\n",
    "coding_task = Task(\n",
    "    description=\"\"\"Take the methodology from the research agent and generate Python code \n",
    "    that implements the described approach. Include test cases and documentation.\"\"\",\n",
    "    expected_output=\"Complete Python implementation with example usage.\",\n",
    "    agent=code_agent,\n",
    "    output_file='implementation.py'\n",
    ")\n",
    "\n",
    "# Create Crew\n",
    "implementation_crew = Crew(\n",
    "    agents=[research_agent, code_agent],\n",
    "    tasks=[research_task, coding_task],\n",
    "    verbose=2,\n",
    "    process=Process.sequential\n",
    ")\n",
    "\n",
    "# Execute the workflow\n",
    "if __name__ == \"__main__\":\n",
    "    topic = input(\"Enter research topic: \")\n",
    "    result = implementation_crew.kickoff(inputs={'topic': topic})\n",
    "    print(\"\\n\\n########################\")\n",
    "    print(\"## Workflow Complete ##\")\n",
    "    print(\"########################\")\n",
    "    print(result)"
   ]
  },
  {
   "cell_type": "code",
   "execution_count": null,
   "metadata": {},
   "outputs": [],
   "source": []
  }
 ],
 "metadata": {
  "kernelspec": {
   "display_name": "Python 3 (ipykernel)",
   "language": "python",
   "name": "python3"
  },
  "language_info": {
   "codemirror_mode": {
    "name": "ipython",
    "version": 3
   },
   "file_extension": ".py",
   "mimetype": "text/x-python",
   "name": "python",
   "nbconvert_exporter": "python",
   "pygments_lexer": "ipython3",
   "version": "3.10.16"
  }
 },
 "nbformat": 4,
 "nbformat_minor": 4
}
